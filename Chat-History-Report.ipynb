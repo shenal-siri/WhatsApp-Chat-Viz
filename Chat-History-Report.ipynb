{
 "cells": [
  {
   "cell_type": "markdown",
   "metadata": {},
   "source": [
    "# <center>Here's What Your Chat History Looks Like!</center>"
   ]
  },
  {
   "cell_type": "markdown",
   "metadata": {},
   "source": [
    "![00-vis](png-for-report\\00-vis.png)\n",
    "![01-vis](png-for-report\\01-vis.png)\n",
    "![02-vis](png-for-report\\02-vis.png)\n",
    "![03-vis](png-for-report\\03-vis.png)\n",
    "![04-vis](png-for-report\\04-vis.png)\n",
    "![05-vis](png-for-report\\05-vis.png)\n",
    "![06-vis](png-for-report\\06-vis.png)\n",
    "![07-vis](png-for-report\\07-vis.png)\n",
    "![08-vis](png-for-report\\08-vis.png)\n",
    "![09-vis](png-for-report\\09-vis.png)\n",
    "![10-vis](png-for-report\\10-vis.png)\n",
    "![11-vis](png-for-report\\11-vis.png)\n",
    "![12-vis](png-for-report\\12-vis.png)"
   ]
  },
  {
   "cell_type": "markdown",
   "metadata": {
    "tags": [
     "remove_cell"
    ]
   },
   "source": [
    "The cell below will create a standalone HTML file of your report.\n",
    "The script embeds the visualizations into the HTML file, so anyone (with a browser) can view the report! <br>\n",
    "*Note: Jupyter Notebook's `File - > Download as HTML` option breaks if you move the HTML file from its location - hence the custom script!*"
   ]
  },
  {
   "cell_type": "code",
   "execution_count": 3,
   "metadata": {
    "scrolled": true,
    "tags": [
     "remove_cell"
    ]
   },
   "outputs": [],
   "source": [
    "%run Generate-Chat-History-Report.ipynb"
   ]
  },
  {
   "cell_type": "markdown",
   "metadata": {
    "tags": [
     "remove_cell"
    ]
   },
   "source": [
    "The cell below contains Raw NBConvert instructions to remove the left margin when generating the HTML report:"
   ]
  },
  {
   "cell_type": "raw",
   "metadata": {},
   "source": [
    "<style>\n",
    "div.prompt {display:none}\n",
    "</style>"
   ]
  }
 ],
 "metadata": {
  "kernelspec": {
   "display_name": "Python [conda env:datasciproj]",
   "language": "python",
   "name": "conda-env-datasciproj-py"
  },
  "language_info": {
   "codemirror_mode": {
    "name": "ipython",
    "version": 3
   },
   "file_extension": ".py",
   "mimetype": "text/x-python",
   "name": "python",
   "nbconvert_exporter": "python",
   "pygments_lexer": "ipython3",
   "version": "3.7.6"
  }
 },
 "nbformat": 4,
 "nbformat_minor": 4
}
