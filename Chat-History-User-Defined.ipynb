{
 "cells": [
  {
   "cell_type": "markdown",
   "metadata": {},
   "source": [
    "# Custom / User-Defined Data for WhatsApp Chat History Data Visualization"
   ]
  },
  {
   "cell_type": "markdown",
   "metadata": {},
   "source": [
    "This is a *supplementary, work-in-progress* notebook meant to store custom (i.e, user-defined) dictionaries and sets for the chat log data visualization tool prototype.\n",
    "**Note:** This notebook must be in the same directory as 'Chat-History-Prototyping.ipynb'"
   ]
  },
  {
   "cell_type": "code",
   "execution_count": 13,
   "metadata": {},
   "outputs": [],
   "source": [
    "# Define custom set of supplemental stopwords\n",
    "STOPWORDS_EXTRA = {\"lool\"}"
   ]
  },
  {
   "cell_type": "code",
   "execution_count": 1,
   "metadata": {},
   "outputs": [],
   "source": [
    "# Define upper limit of repeated letters for slang variant generation\n",
    "VARIANT_LIMIT = 5"
   ]
  },
  {
   "cell_type": "code",
   "execution_count": 15,
   "metadata": {},
   "outputs": [],
   "source": [
    "# Define dictionary of string:integer pairs for slang variant generation.\n",
    "#     Strings are slang 'base' words. Integers are the slang variant 'type' defined below:\n",
    "#         1 == Repeating single final letter (eg. lmaooooo -> lmao)\n",
    "#         2 == Repeating double final letters (eg. wooooowwwww -> wow)\n",
    "SLANG_DICT = {\"lmao\": 1,\n",
    "              \"wow\": 2 }"
   ]
  },
  {
   "cell_type": "code",
   "execution_count": 16,
   "metadata": {},
   "outputs": [],
   "source": [
    "# Define dictionary of string:string pairs for special-case slang variants\n",
    "# (i.e, slang does not fall into variant type '1' or '2' and must be manually defined)\n",
    "SLANG_SPECIAL_CASES = {\"ha\": \"hahaha\",\n",
    "                       \"hah\": \"hahaha\",\n",
    "                       \"haha\": \"hahaha\"}"
   ]
  }
 ],
 "metadata": {
  "kernelspec": {
   "display_name": "Python [conda env:datasciproj]",
   "language": "python",
   "name": "conda-env-datasciproj-py"
  },
  "language_info": {
   "codemirror_mode": {
    "name": "ipython",
    "version": 3
   },
   "file_extension": ".py",
   "mimetype": "text/x-python",
   "name": "python",
   "nbconvert_exporter": "python",
   "pygments_lexer": "ipython3",
   "version": "3.7.6"
  }
 },
 "nbformat": 4,
 "nbformat_minor": 4
}
