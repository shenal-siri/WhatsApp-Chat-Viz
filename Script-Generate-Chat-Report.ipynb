{
 "cells": [
  {
   "cell_type": "markdown",
   "metadata": {},
   "source": [
    "### Script to Generate Standalone HTML Chat History Report\n",
    "Note: You must have run the `Chat-History-Prototyping` notebook first. Then, run `Chat-History-Report`, which calls this notebook to generate a standalone, shareable HTML report."
   ]
  },
  {
   "cell_type": "code",
   "execution_count": 1,
   "metadata": {},
   "outputs": [],
   "source": [
    "# Get stored visualization path list using iPython %store -r magic\n",
    "%store -r"
   ]
  },
  {
   "cell_type": "markdown",
   "metadata": {},
   "source": [
    "The script below relies heavily on the `nbconvert` and `nbformat` packages (used as libraries). The following references were heavily utilized:\n",
    "- [The nbconvert library documentation](https://nbconvert.readthedocs.io/en/latest/nbconvert_library.html) for providing the implementation backbone.\n",
    "- [The nbconvert cell removal guide](https://nbconvert.readthedocs.io/en/latest/removing_cells.html) for leveraging [notebook tags](https://stackoverflow.com/questions/48014844/what-is-the-usage-of-tag-over-the-cell-in-jupyter) to remove unwanted cells in the final report.\n",
    "- [This post](https://stackoverflow.com/questions/26068316/embedding-image-in-ipython-notebook-for-distribution) for providing information on embedding images in HTML using base64.\n",
    "- [This post](https://stackoverflow.com/questions/20184994/ipython-notebook-nbconvert-how-to-remove-red-outn-text-in-top-left-hand-co/30234937#30234937) for guidance on removing the left margin of a Jupyter Notebook using raw cells.\n",
    "- [nbconvert documentation](https://nbconvert.readthedocs.io/_/downloads/en/5.3.0/pdf/) for reference."
   ]
  },
  {
   "cell_type": "code",
   "execution_count": 2,
   "metadata": {},
   "outputs": [],
   "source": [
    "import os\n",
    "import base64\n",
    "import nbformat\n",
    "from nbconvert import HTMLExporter\n",
    "from traitlets.config import Config\n",
    "\n",
    "output_string = \"\"\n",
    "\n",
    "for file_path in all_vis_paths:\n",
    "    \n",
    "    # Read image and convert to base64\n",
    "    with open(file_path, \"rb\") as image_file:\n",
    "        encoded_string = base64.b64encode(image_file.read())\n",
    "        \n",
    "    # Add to the HTML output string to embed image in base64 \n",
    "    output_string += '<img src=\"data:image/png;base64,'+ encoded_string.decode(\"utf-8\") + '\" />\\n'\n",
    "    \n",
    "# Remove the trailing newline char\n",
    "output_string = output_string[:-1]\n",
    "\n",
    "# 0-indexed cell position of the markdown cell\n",
    "cell_number = 1 \n",
    "\n",
    "# Read Markdown-formatted Jupyter Notebook to NotebookNode object\n",
    "# (NOTE: all images must be in a single Markdown cell for this script to work!)\n",
    "report_nbform = nbformat.read('Chat-History-Report.ipynb', as_version=4)\n",
    "\n",
    "# Embed the image in base64 form\n",
    "report_nbform.cells[cell_number]['source'] = output_string\n",
    "\n",
    "# Instantiate the exporter\n",
    "html_exporter = HTMLExporter()\n",
    "#html_exporter.template_file = 'basic'\n",
    "\n",
    "# Create a configuration object and configure tag removal \n",
    "c = Config()\n",
    "c.TagRemovePreprocessor.remove_cell_tags = (\"remove_cell\",)\n",
    "\n",
    "# Configure preprocessors\n",
    "c.HTMLExporter.preprocessors = [\"TagRemovePreprocessor\"]\n",
    "c.HTMLExporter.preprocessors = ['nbconvert.preprocessors.ExtractOutputPreprocessor']\n",
    "\n",
    "# Create the new exporter using the custom config\n",
    "html_exporter_with_figs = HTMLExporter(config=c)\n",
    "\n",
    "# Process the notebook loaded earlier into HTML\n",
    "(html_body, resources_with_fig) = html_exporter_with_figs.from_notebook_node(report_nbform)\n",
    "\n",
    "# Write the report in HTML format\n",
    "with open(\"Chat-History-Report.html\", mode= \"w\") as f:\n",
    "    f.write(html_body)\n"
   ]
  }
 ],
 "metadata": {
  "kernelspec": {
   "display_name": "Python [conda env:datasciproj]",
   "language": "python",
   "name": "conda-env-datasciproj-py"
  },
  "language_info": {
   "codemirror_mode": {
    "name": "ipython",
    "version": 3
   },
   "file_extension": ".py",
   "mimetype": "text/x-python",
   "name": "python",
   "nbconvert_exporter": "python",
   "pygments_lexer": "ipython3",
   "version": "3.7.6"
  }
 },
 "nbformat": 4,
 "nbformat_minor": 4
}
