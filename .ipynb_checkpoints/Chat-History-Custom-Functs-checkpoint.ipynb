{
 "cells": [
  {
   "cell_type": "markdown",
   "metadata": {},
   "source": [
    "# Custom Functions for WhatsApp Chat History Data Visualization"
   ]
  },
  {
   "cell_type": "markdown",
   "metadata": {},
   "source": [
    "This is a *supplementary, work-in-progress* notebook meant to define custom (i.e, user-specific) functions for the chat log data visualization tool prototype.\n",
    "**Note:** This notebook must be in the same directory as 'Chat-History-Prototyping.ipynb'"
   ]
  },
  {
   "cell_type": "code",
   "execution_count": 4,
   "metadata": {},
   "outputs": [],
   "source": [
    "# Define constant for slang variant generation\n",
    "VARIANT_LIMIT = 5"
   ]
  },
  {
   "cell_type": "code",
   "execution_count": 5,
   "metadata": {},
   "outputs": [],
   "source": [
    "# Define dictionary of string:integer pairs for slang variant generation.\n",
    "#     Strings are slang 'base' words. Integers are the slang variant 'type' defined below:\n",
    "#         1 == Repeating single final letter (eg. lmaooo -> lmao)\n",
    "#         2 == Repeating double final letters (eg. wooowww -> wow)\n",
    "slang_dict = {\"lmao\": 1,\n",
    "              \"wow\": 2 }"
   ]
  },
  {
   "cell_type": "code",
   "execution_count": 6,
   "metadata": {},
   "outputs": [],
   "source": [
    "# Define dictionary of string:string pairs for special-case slang variants\n",
    "# (i.e, slang does not fall into variant type '1' or '2' and must be manually defined)\n",
    "slang_special_cases = {\"ha\": \"hahaha\",\n",
    "                       \"hah\": \"hahaha\",\n",
    "                       \"haha\": \"hahaha\"}"
   ]
  }
 ],
 "metadata": {
  "kernelspec": {
   "display_name": "Python [conda env:datasciproj]",
   "language": "python",
   "name": "conda-env-datasciproj-py"
  },
  "language_info": {
   "codemirror_mode": {
    "name": "ipython",
    "version": 3
   },
   "file_extension": ".py",
   "mimetype": "text/x-python",
   "name": "python",
   "nbconvert_exporter": "python",
   "pygments_lexer": "ipython3",
   "version": "3.7.6"
  }
 },
 "nbformat": 4,
 "nbformat_minor": 4
}
